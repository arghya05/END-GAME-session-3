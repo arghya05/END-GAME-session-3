{
  "nbformat": 4,
  "nbformat_minor": 0,
  "metadata": {
    "colab": {
      "name": "END - Session3.ipynb",
      "provenance": []
    },
    "kernelspec": {
      "name": "python3",
      "display_name": "Python 3"
    }
  },
  "cells": [
    {
      "cell_type": "code",
      "metadata": {
        "id": "UjNuvAstT7qz"
      },
      "source": [
        "# Imports\n",
        "from functools import reduce, partial\n",
        "import math\n",
        "import operator\n",
        "import random\n",
        "import re\n",
        "from urllib.request import urlopen\n"
      ],
      "execution_count": null,
      "outputs": []
    },
    {
      "cell_type": "code",
      "metadata": {
        "id": "hAfYDXybUEwU"
      },
      "source": [
        "# Q.1: Write a function using only list filter lambda that can tell whether a number is a Fibonacci \n",
        "#      number or not. You can use a pre-calculated list/dict to store fab numbers till 10000\n",
        "def fab_checker(num=int)->bool:\n",
        "    '''\n",
        "    This function checks if the number provided is a number in Fibonacci series\n",
        "    The input should be a positive integer less than 10,000. The function returns True or\n",
        "    False indicationg whether a the number provided is a number in Fibonacci series\n",
        "    '''\n",
        "    if num>10000:\n",
        "        raise ValueError(\"The function doesn't check for numbers above 10,000\")\n",
        "\n",
        "    fab = [0, 1, 1, 2, 3, 5, 8, 13, 21, 34, 55, 89, 144, 233, 377, 610, 987, 1597, 2584, 4181, 6765]\n",
        "    num_list=[num]\n",
        "    return bool((list(filter(lambda x: True if x in fab else False,num_list))))"
      ],
      "execution_count": null,
      "outputs": []
    },
    {
      "cell_type": "code",
      "metadata": {
        "id": "OTXsTn95ULFn",
        "outputId": "445af034-dc4d-4e6e-a7ad-a18d8e20d691",
        "colab": {
          "base_uri": "https://localhost:8080/"
        }
      },
      "source": [
        "fab_checker(8)"
      ],
      "execution_count": null,
      "outputs": [
        {
          "output_type": "execute_result",
          "data": {
            "text/plain": [
              "True"
            ]
          },
          "metadata": {
            "tags": []
          },
          "execution_count": 3
        }
      ]
    },
    {
      "cell_type": "code",
      "metadata": {
        "id": "DdsIENELUPCF"
      },
      "source": [
        "# Q2.a. Using list comprehension (and zip/lambda/etc if required) write an expression that\n",
        "#       add 2 iterables a and b such that a is even and b is odd\n",
        "def add_iter_even_odd(in_list1 = list, in_list2 = list)->list:\n",
        "    '''\n",
        "    This function adds 2 iterables a and b such that a is even and b is odd\n",
        "    The input should be a list of numbers.\n",
        "    The function returns list with addition as per the above mentioned rule\n",
        "    '''\n",
        "    final_list = list(filter(None,[a+b if a%2==0 and b%2!=0 else 0 for a,b in zip(in_list1,in_list2)]))\n",
        "    return final_list"
      ],
      "execution_count": null,
      "outputs": []
    },
    {
      "cell_type": "code",
      "metadata": {
        "id": "WUFY68AuUS0E",
        "outputId": "87f0a9d8-eb8b-4017-fb4e-c4743884b2d1",
        "colab": {
          "base_uri": "https://localhost:8080/"
        }
      },
      "source": [
        "a = [1,2,3]\n",
        "b = [4,5,6]\n",
        "add_iter_even_odd(a,b)"
      ],
      "execution_count": null,
      "outputs": [
        {
          "output_type": "execute_result",
          "data": {
            "text/plain": [
              "[7]"
            ]
          },
          "metadata": {
            "tags": []
          },
          "execution_count": 5
        }
      ]
    },
    {
      "cell_type": "code",
      "metadata": {
        "id": "XCBG3_eAUeBD"
      },
      "source": [
        "# Q2.b. Using list comprehension (and zip/lambda/etc if required) write an expression that\n",
        "#       strips every vowel from a string provided (tsai>>t s)\n",
        "def vowel_remover(in_str = str)->str:\n",
        "    '''\n",
        "    This function strips every vowel from a string provided\n",
        "    The input should be any string.\n",
        "    The function returns string without any vowels\n",
        "    '''\n",
        "    if not isinstance(in_str,str):\n",
        "        raise TypeError(\"Only strings allowed as input\")\n",
        "\n",
        "    pure_list = [x for x in in_str if x not in ('a','e','i','o','u')]\n",
        "    return \"\".join(pure_list)"
      ],
      "execution_count": null,
      "outputs": []
    },
    {
      "cell_type": "code",
      "metadata": {
        "id": "n37xSEitUgqo",
        "outputId": "74910d01-c4d0-4195-b1ec-06faeeaf5c93",
        "colab": {
          "base_uri": "https://localhost:8080/",
          "height": 36
        }
      },
      "source": [
        "vowel_remover(\"ajio\")"
      ],
      "execution_count": null,
      "outputs": [
        {
          "output_type": "execute_result",
          "data": {
            "application/vnd.google.colaboratory.intrinsic+json": {
              "type": "string"
            },
            "text/plain": [
              "'j'"
            ]
          },
          "metadata": {
            "tags": []
          },
          "execution_count": 7
        }
      ]
    },
    {
      "cell_type": "code",
      "metadata": {
        "id": "4b0saUFzUkrh"
      },
      "source": [
        "# Q2.c. Using list comprehension (and zip/lambda/etc if required) write an expression that\n",
        "#       acts like a ReLU function for a 1D array\n",
        "def relu(in_list = list)->list:\n",
        "    '''\n",
        "    This function that applies ReLU function to each elements of the provided list\n",
        "    The input should be a list of numbers.\n",
        "    The function returns list with ReLU output for each of the elements of the list\n",
        "    '''\n",
        "    final_list = [0 if x < 0 else x for x in in_list]\n",
        "    return final_list"
      ],
      "execution_count": null,
      "outputs": []
    },
    {
      "cell_type": "code",
      "metadata": {
        "id": "Rf7Bnc-_Un1_",
        "outputId": "a215f16f-89b7-4098-d873-7aba2eb8c9b2",
        "colab": {
          "base_uri": "https://localhost:8080/"
        }
      },
      "source": [
        "relu([1,2,-3,4,-5.5])"
      ],
      "execution_count": null,
      "outputs": [
        {
          "output_type": "execute_result",
          "data": {
            "text/plain": [
              "[1, 2, 0, 4, 0]"
            ]
          },
          "metadata": {
            "tags": []
          },
          "execution_count": 9
        }
      ]
    },
    {
      "cell_type": "code",
      "metadata": {
        "id": "j1CNldePUpRQ"
      },
      "source": [
        "# Q2.d. Using list comprehension (and zip/lambda/etc if required) write an expression that\n",
        "#       acts like a Sigmoid function for a 1D array\n",
        "def sigmoid(in_list = list)->list:\n",
        "    '''\n",
        "    This function that applies Sigmoid function to each elements of the provided list\n",
        "    The input should be a list of numbers.\n",
        "    The function returns list with Sigmoid output for each of the elements of the list\n",
        "    '''\n",
        "    final_list = [round(1/(1+math.exp(-x)),2) for x in in_list]\n",
        "    return final_list"
      ],
      "execution_count": null,
      "outputs": []
    },
    {
      "cell_type": "code",
      "metadata": {
        "id": "b6n0KAhtUv3p",
        "outputId": "981c1dcf-956c-4dbd-8ef0-1d03d3ec3ef4",
        "colab": {
          "base_uri": "https://localhost:8080/"
        }
      },
      "source": [
        "sigmoid([1,2,-3,4,-5.5])"
      ],
      "execution_count": null,
      "outputs": [
        {
          "output_type": "execute_result",
          "data": {
            "text/plain": [
              "[0.73, 0.88, 0.05, 0.98, 0.0]"
            ]
          },
          "metadata": {
            "tags": []
          },
          "execution_count": 15
        }
      ]
    },
    {
      "cell_type": "code",
      "metadata": {
        "id": "6jkxPQKEU2Du"
      },
      "source": [
        "# Q2.d. Using list comprehension (and zip/lambda/etc if required) write an expression that\n",
        "#       takes a small character string and shifts all characters by 5 (handle boundary conditions)\n",
        "def char_shifter(in_str = str)->str:\n",
        "    '''\n",
        "    This function shifts all characters by 5 for a string provided\n",
        "    The input should be any string.\n",
        "    The function returns string with all characters shifted by 5\n",
        "    '''\n",
        "    if not isinstance(in_str,str):\n",
        "        raise TypeError(\"Only strings allowed as input\")\n",
        "\n",
        "    pure_list = [chr(ord(x)+5) if ord(x)<117 else chr(ord(x)-21) for x in in_str]\n",
        "    return \"\".join(pure_list)"
      ],
      "execution_count": null,
      "outputs": []
    },
    {
      "cell_type": "code",
      "metadata": {
        "id": "Q4z9uOMsVOKD",
        "outputId": "ada023f0-ae73-4695-dc74-60c9be01df05",
        "colab": {
          "base_uri": "https://localhost:8080/",
          "height": 36
        }
      },
      "source": [
        "char_shifter(\"abcdwxyz\")"
      ],
      "execution_count": null,
      "outputs": [
        {
          "output_type": "execute_result",
          "data": {
            "application/vnd.google.colaboratory.intrinsic+json": {
              "type": "string"
            },
            "text/plain": [
              "'fghibcde'"
            ]
          },
          "metadata": {
            "tags": []
          },
          "execution_count": 18
        }
      ]
    },
    {
      "cell_type": "code",
      "metadata": {
        "id": "NrQT0JDIWFr2"
      },
      "source": [
        "file = open(\"filename\",\"w\")\n",
        "url = urlopen(\"url\")\n",
        "for line in url:\n",
        "    file.write(line + '\\n')\n",
        "file.close()"
      ],
      "execution_count": null,
      "outputs": []
    },
    {
      "cell_type": "code",
      "metadata": {
        "id": "ypp96ncKW8O3",
        "outputId": "175557ba-7e80-42a4-96f4-a731153dfefa",
        "colab": {
          "base_uri": "https://localhost:8080/"
        }
      },
      "source": [
        ""
      ],
      "execution_count": null,
      "outputs": [
        {
          "output_type": "execute_result",
          "data": {
            "text/plain": [
              "['4r5e',\n",
              " '5h1t',\n",
              " '5hit',\n",
              " 'a55',\n",
              " 'anal',\n",
              " 'anus',\n",
              " 'ar5e',\n",
              " 'arrse',\n",
              " 'arse',\n",
              " 'ass',\n",
              " 'ass-fucker',\n",
              " 'asses',\n",
              " 'assfucker',\n",
              " 'assfukka',\n",
              " 'asshole',\n",
              " 'assholes',\n",
              " 'asswhole',\n",
              " 'a_s_s',\n",
              " 'b!tch',\n",
              " 'b00bs',\n",
              " 'b17ch',\n",
              " 'b1tch',\n",
              " 'ballbag',\n",
              " 'balls',\n",
              " 'ballsack',\n",
              " 'bastard',\n",
              " 'beastial',\n",
              " 'beastiality',\n",
              " 'bellend',\n",
              " 'bestial',\n",
              " 'bestiality',\n",
              " 'bi+ch',\n",
              " 'biatch',\n",
              " 'bitch',\n",
              " 'bitcher',\n",
              " 'bitchers',\n",
              " 'bitches',\n",
              " 'bitchin',\n",
              " 'bitching',\n",
              " 'bloody',\n",
              " 'blow job',\n",
              " 'blowjob',\n",
              " 'blowjobs',\n",
              " 'boiolas',\n",
              " 'bollock',\n",
              " 'bollok',\n",
              " 'boner',\n",
              " 'boob',\n",
              " 'boobs',\n",
              " 'booobs',\n",
              " 'boooobs',\n",
              " 'booooobs',\n",
              " 'booooooobs',\n",
              " 'breasts',\n",
              " 'buceta',\n",
              " 'bugger',\n",
              " 'bum',\n",
              " 'bunny fucker',\n",
              " 'butt',\n",
              " 'butthole',\n",
              " 'buttmunch',\n",
              " 'buttplug',\n",
              " 'c0ck',\n",
              " 'c0cksucker',\n",
              " 'carpet muncher',\n",
              " 'cawk',\n",
              " 'chink',\n",
              " 'cipa',\n",
              " 'cl1t',\n",
              " 'clit',\n",
              " 'clitoris',\n",
              " 'clits',\n",
              " 'cnut',\n",
              " 'cock',\n",
              " 'cock-sucker',\n",
              " 'cockface',\n",
              " 'cockhead',\n",
              " 'cockmunch',\n",
              " 'cockmuncher',\n",
              " 'cocks',\n",
              " 'cocksuck ',\n",
              " 'cocksucked ',\n",
              " 'cocksucker',\n",
              " 'cocksucking',\n",
              " 'cocksucks ',\n",
              " 'cocksuka',\n",
              " 'cocksukka',\n",
              " 'cok',\n",
              " 'cokmuncher',\n",
              " 'coksucka',\n",
              " 'coon',\n",
              " 'cox',\n",
              " 'crap',\n",
              " 'cum',\n",
              " 'cummer',\n",
              " 'cumming',\n",
              " 'cums',\n",
              " 'cumshot',\n",
              " 'cunilingus',\n",
              " 'cunillingus',\n",
              " 'cunnilingus',\n",
              " 'cunt',\n",
              " 'cuntlick ',\n",
              " 'cuntlicker ',\n",
              " 'cuntlicking ',\n",
              " 'cunts',\n",
              " 'cyalis',\n",
              " 'cyberfuc',\n",
              " 'cyberfuck ',\n",
              " 'cyberfucked ',\n",
              " 'cyberfucker',\n",
              " 'cyberfuckers',\n",
              " 'cyberfucking ',\n",
              " 'd1ck',\n",
              " 'damn',\n",
              " 'dick',\n",
              " 'dickhead',\n",
              " 'dildo',\n",
              " 'dildos',\n",
              " 'dink',\n",
              " 'dinks',\n",
              " 'dirsa',\n",
              " 'dlck',\n",
              " 'dog-fucker',\n",
              " 'doggin',\n",
              " 'dogging',\n",
              " 'donkeyribber',\n",
              " 'doosh',\n",
              " 'duche',\n",
              " 'dyke',\n",
              " 'ejaculate',\n",
              " 'ejaculated',\n",
              " 'ejaculates ',\n",
              " 'ejaculating ',\n",
              " 'ejaculatings',\n",
              " 'ejaculation',\n",
              " 'ejakulate',\n",
              " 'f u c k',\n",
              " 'f u c k e r',\n",
              " 'f4nny',\n",
              " 'fag',\n",
              " 'fagging',\n",
              " 'faggitt',\n",
              " 'faggot',\n",
              " 'faggs',\n",
              " 'fagot',\n",
              " 'fagots',\n",
              " 'fags',\n",
              " 'fanny',\n",
              " 'fannyflaps',\n",
              " 'fannyfucker',\n",
              " 'fanyy',\n",
              " 'fatass',\n",
              " 'fcuk',\n",
              " 'fcuker',\n",
              " 'fcuking',\n",
              " 'feck',\n",
              " 'fecker',\n",
              " 'felching',\n",
              " 'fellate',\n",
              " 'fellatio',\n",
              " 'fingerfuck ',\n",
              " 'fingerfucked ',\n",
              " 'fingerfucker ',\n",
              " 'fingerfuckers',\n",
              " 'fingerfucking ',\n",
              " 'fingerfucks ',\n",
              " 'fistfuck',\n",
              " 'fistfucked ',\n",
              " 'fistfucker ',\n",
              " 'fistfuckers ',\n",
              " 'fistfucking ',\n",
              " 'fistfuckings ',\n",
              " 'fistfucks ',\n",
              " 'flange',\n",
              " 'fook',\n",
              " 'fooker',\n",
              " 'fuck',\n",
              " 'fucka',\n",
              " 'fucked',\n",
              " 'fucker',\n",
              " 'fuckers',\n",
              " 'fuckhead',\n",
              " 'fuckheads',\n",
              " 'fuckin',\n",
              " 'fucking',\n",
              " 'fuckings',\n",
              " 'fuckingshitmotherfucker',\n",
              " 'fuckme ',\n",
              " 'fucks',\n",
              " 'fuckwhit',\n",
              " 'fuckwit',\n",
              " 'fudge packer',\n",
              " 'fudgepacker',\n",
              " 'fuk',\n",
              " 'fuker',\n",
              " 'fukker',\n",
              " 'fukkin',\n",
              " 'fuks',\n",
              " 'fukwhit',\n",
              " 'fukwit',\n",
              " 'fux',\n",
              " 'fux0r',\n",
              " 'f_u_c_k',\n",
              " 'gangbang',\n",
              " 'gangbanged ',\n",
              " 'gangbangs ',\n",
              " 'gaylord',\n",
              " 'gaysex',\n",
              " 'goatse',\n",
              " 'God',\n",
              " 'god-dam',\n",
              " 'god-damned',\n",
              " 'goddamn',\n",
              " 'goddamned',\n",
              " 'hardcoresex ',\n",
              " 'hell',\n",
              " 'heshe',\n",
              " 'hoar',\n",
              " 'hoare',\n",
              " 'hoer',\n",
              " 'homo',\n",
              " 'hore',\n",
              " 'horniest',\n",
              " 'horny',\n",
              " 'hotsex',\n",
              " 'jack-off ',\n",
              " 'jackoff',\n",
              " 'jap',\n",
              " 'jerk-off ',\n",
              " 'jism',\n",
              " 'jiz ',\n",
              " 'jizm ',\n",
              " 'jizz',\n",
              " 'kawk',\n",
              " 'knob',\n",
              " 'knobead',\n",
              " 'knobed',\n",
              " 'knobend',\n",
              " 'knobhead',\n",
              " 'knobjocky',\n",
              " 'knobjokey',\n",
              " 'kock',\n",
              " 'kondum',\n",
              " 'kondums',\n",
              " 'kum',\n",
              " 'kummer',\n",
              " 'kumming',\n",
              " 'kums',\n",
              " 'kunilingus',\n",
              " 'l3i+ch',\n",
              " 'l3itch',\n",
              " 'labia',\n",
              " 'lmfao',\n",
              " 'lust',\n",
              " 'lusting',\n",
              " 'm0f0',\n",
              " 'm0fo',\n",
              " 'm45terbate',\n",
              " 'ma5terb8',\n",
              " 'ma5terbate',\n",
              " 'masochist',\n",
              " 'master-bate',\n",
              " 'masterb8',\n",
              " 'masterbat*',\n",
              " 'masterbat3',\n",
              " 'masterbate',\n",
              " 'masterbation',\n",
              " 'masterbations',\n",
              " 'masturbate',\n",
              " 'mo-fo',\n",
              " 'mof0',\n",
              " 'mofo',\n",
              " 'mothafuck',\n",
              " 'mothafucka',\n",
              " 'mothafuckas',\n",
              " 'mothafuckaz',\n",
              " 'mothafucked ',\n",
              " 'mothafucker',\n",
              " 'mothafuckers',\n",
              " 'mothafuckin',\n",
              " 'mothafucking ',\n",
              " 'mothafuckings',\n",
              " 'mothafucks',\n",
              " 'mother fucker',\n",
              " 'motherfuck',\n",
              " 'motherfucked',\n",
              " 'motherfucker',\n",
              " 'motherfuckers',\n",
              " 'motherfuckin',\n",
              " 'motherfucking',\n",
              " 'motherfuckings',\n",
              " 'motherfuckka',\n",
              " 'motherfucks',\n",
              " 'muff',\n",
              " 'mutha',\n",
              " 'muthafecker',\n",
              " 'muthafuckker',\n",
              " 'muther',\n",
              " 'mutherfucker',\n",
              " 'n1gga',\n",
              " 'n1gger',\n",
              " 'nazi',\n",
              " 'nigg3r',\n",
              " 'nigg4h',\n",
              " 'nigga',\n",
              " 'niggah',\n",
              " 'niggas',\n",
              " 'niggaz',\n",
              " 'nigger',\n",
              " 'niggers ',\n",
              " 'nob',\n",
              " 'nob jokey',\n",
              " 'nobhead',\n",
              " 'nobjocky',\n",
              " 'nobjokey',\n",
              " 'numbnuts',\n",
              " 'nutsack',\n",
              " 'orgasim ',\n",
              " 'orgasims ',\n",
              " 'orgasm',\n",
              " 'orgasms ',\n",
              " 'p0rn',\n",
              " 'pawn',\n",
              " 'pecker',\n",
              " 'penis',\n",
              " 'penisfucker',\n",
              " 'phonesex',\n",
              " 'phuck',\n",
              " 'phuk',\n",
              " 'phuked',\n",
              " 'phuking',\n",
              " 'phukked',\n",
              " 'phukking',\n",
              " 'phuks',\n",
              " 'phuq',\n",
              " 'pigfucker',\n",
              " 'pimpis',\n",
              " 'piss',\n",
              " 'pissed',\n",
              " 'pisser',\n",
              " 'pissers',\n",
              " 'pisses ',\n",
              " 'pissflaps',\n",
              " 'pissin ',\n",
              " 'pissing',\n",
              " 'pissoff ',\n",
              " 'poop',\n",
              " 'porn',\n",
              " 'porno',\n",
              " 'pornography',\n",
              " 'pornos',\n",
              " 'prick',\n",
              " 'pricks ',\n",
              " 'pron',\n",
              " 'pube',\n",
              " 'pusse',\n",
              " 'pussi',\n",
              " 'pussies',\n",
              " 'pussy',\n",
              " 'pussys ',\n",
              " 'rectum',\n",
              " 'retard',\n",
              " 'rimjaw',\n",
              " 'rimming',\n",
              " 's hit',\n",
              " 's.o.b.',\n",
              " 'sadist',\n",
              " 'schlong',\n",
              " 'screwing',\n",
              " 'scroat',\n",
              " 'scrote',\n",
              " 'scrotum',\n",
              " 'semen',\n",
              " 'sex',\n",
              " 'sh!+',\n",
              " 'sh!t',\n",
              " 'sh1t',\n",
              " 'shag',\n",
              " 'shagger',\n",
              " 'shaggin',\n",
              " 'shagging',\n",
              " 'shemale',\n",
              " 'shi+',\n",
              " 'shit',\n",
              " 'shitdick',\n",
              " 'shite',\n",
              " 'shited',\n",
              " 'shitey',\n",
              " 'shitfuck',\n",
              " 'shitfull',\n",
              " 'shithead',\n",
              " 'shiting',\n",
              " 'shitings',\n",
              " 'shits',\n",
              " 'shitted',\n",
              " 'shitter',\n",
              " 'shitters ',\n",
              " 'shitting',\n",
              " 'shittings',\n",
              " 'shitty ',\n",
              " 'skank',\n",
              " 'slut',\n",
              " 'sluts',\n",
              " 'smegma',\n",
              " 'smut',\n",
              " 'snatch',\n",
              " 'son-of-a-bitch',\n",
              " 'spac',\n",
              " 'spunk',\n",
              " 's_h_i_t',\n",
              " 't1tt1e5',\n",
              " 't1tties',\n",
              " 'teets',\n",
              " 'teez',\n",
              " 'testical',\n",
              " 'testicle',\n",
              " 'tit',\n",
              " 'titfuck',\n",
              " 'tits',\n",
              " 'titt',\n",
              " 'tittie5',\n",
              " 'tittiefucker',\n",
              " 'titties',\n",
              " 'tittyfuck',\n",
              " 'tittywank',\n",
              " 'titwank',\n",
              " 'tosser',\n",
              " 'turd',\n",
              " 'tw4t',\n",
              " 'twat',\n",
              " 'twathead',\n",
              " 'twatty',\n",
              " 'twunt',\n",
              " 'twunter',\n",
              " 'v14gra',\n",
              " 'v1gra',\n",
              " 'vagina',\n",
              " 'viagra',\n",
              " 'vulva',\n",
              " 'w00se',\n",
              " 'wang',\n",
              " 'wank',\n",
              " 'wanker',\n",
              " 'wanky',\n",
              " 'whoar',\n",
              " 'whore',\n",
              " 'willies',\n",
              " 'willy',\n",
              " 'xrated',\n",
              " 'xxx']"
            ]
          },
          "metadata": {
            "tags": []
          },
          "execution_count": 25
        }
      ]
    },
    {
      "cell_type": "code",
      "metadata": {
        "id": "JRVrsywRVXrZ"
      },
      "source": [
        "# Q3 - A list comprehension expression that takes a ~200 word paragraph, and checks whether it has\n",
        "#      any of the swear words mentioned in 'resources/profane_words.txt'\n",
        "def profanity_checker(in_str = str)->str:\n",
        "    '''\n",
        "    This function checks checks whether it has any of the swear words mentioned\n",
        "    in 'resources/profane_words.txt'\n",
        "    The input should be any paragraph as a single string.\n",
        "    The function returns True or False indicationg whether there is profanity in the paragraph \n",
        "    '''\n",
        "    if not isinstance(in_str,str):\n",
        "        raise TypeError(\"Only strings allowed as input\")\n",
        "\n",
        "    str_list = re.split(r'[\\s,.!;]+', in_str)\n",
        "    url = \"https://raw.githubusercontent.com/RobertJGabriel/Google-profanity-words/master/list.txt\"\n",
        "    file = urlopen(url)\n",
        "    profane_data = [line.decode(\"utf-8\").strip(' ').split('\\n')[0] for line in file.readlines()]\n",
        "    return reduce(lambda a,b: bool(a) or bool(b),[True if x.lower() in profane_data else False for x in str_list])"
      ],
      "execution_count": null,
      "outputs": []
    },
    {
      "cell_type": "code",
      "metadata": {
        "id": "0pbLkBZMWEq6",
        "outputId": "3777d591-21cf-478a-9684-6f769ec2752b",
        "colab": {
          "base_uri": "https://localhost:8080/"
        }
      },
      "source": [
        "test_string = '''\n",
        "Oh 5hit, there is something wrong with this paragraph.\n",
        "There are many methodologies that deal with the portion of CLV associated with direct purchases, but the two most broad classes are generally defined as historical and predictive CLV. Historical methods look at past data and make a judgment on the value of customers solely based on past transactions, without any attempt to predict what those customers will do next.\n",
        "In principle, this is a valid approach if the customers behave similarly and have been interacting with the company for roughly the same amount of time. However, there’s generally a fair amount of heterogeneity among customers. Typical historical approaches will apply a recency of last purchase criterion to distinguish between active and inactive users. Average past purchase behavior is employed to measure the relative (or in some cases, absolute) value of customers.\n",
        "However, there are several problems with such methodologies. For example, the first customer in the chart above has made more purchases than the second customer, but in fact, the first customer is more likely to be inactive than the second one. Value based on past averages would claim that the first customer is more valuable — yet the second customer is still active and could make many more purchases in the future. Methods that account for variation in the behavior of customers will allow us to arrive at more accurate conclusions about customer lifetime and purchase behavior.\n",
        "'''\n",
        "profanity_checker(test_string)"
      ],
      "execution_count": null,
      "outputs": [
        {
          "output_type": "execute_result",
          "data": {
            "text/plain": [
              "True"
            ]
          },
          "metadata": {
            "tags": []
          },
          "execution_count": 27
        }
      ]
    },
    {
      "cell_type": "code",
      "metadata": {
        "id": "Vw_JHWRWVh3V"
      },
      "source": [
        "# Q4.a. Using reduce function - add only even numbers in a list\n",
        "def even_adder(in_list = list)->list:\n",
        "    '''\n",
        "    This function that adds only even numbers in the provided list\n",
        "    The input should be a list of numbers.\n",
        "    The function returns sum of even numbers in the provided list\n",
        "    '''\n",
        "    final_num = reduce(lambda a,b: a+b if a%2==0 and b%2==0 else (b if a%2!=0 and b%2==0 else (a if a%2==0 and b%2!=0 else 0)),in_list)\n",
        "    return final_num"
      ],
      "execution_count": null,
      "outputs": []
    },
    {
      "cell_type": "code",
      "metadata": {
        "id": "NCVDgDi5YL72",
        "outputId": "0b6b6dd1-a46d-4f30-a3a5-5e429e5de2b3",
        "colab": {
          "base_uri": "https://localhost:8080/"
        }
      },
      "source": [
        "even_adder([1,2,3,4,5,6])"
      ],
      "execution_count": null,
      "outputs": [
        {
          "output_type": "execute_result",
          "data": {
            "text/plain": [
              "12"
            ]
          },
          "metadata": {
            "tags": []
          },
          "execution_count": 29
        }
      ]
    },
    {
      "cell_type": "code",
      "metadata": {
        "id": "Ek8sQcsGYNQg"
      },
      "source": [
        "# Q4.b. Using reduce function - find the biggest character in a string (printable ascii characters)\n",
        "def biggest_character(in_str = str)->str:\n",
        "    '''\n",
        "    This function finds the biggest character in a string (printable ascii characters)\n",
        "    The input should be a string containing printable ascii characters.\n",
        "    The function returns the biggest character in the provided string\n",
        "    '''\n",
        "    if not isinstance(in_str,str):\n",
        "        raise TypeError(\"Only strings allowed as input\")\n",
        "\n",
        "    final_char = reduce(lambda a,b: a if ord(a)>ord(b) else b,in_str)\n",
        "    return final_char"
      ],
      "execution_count": null,
      "outputs": []
    },
    {
      "cell_type": "code",
      "metadata": {
        "id": "GE5kkPAwYQd5",
        "outputId": "3c9690b2-8f70-4085-c47d-44976ba61a7a",
        "colab": {
          "base_uri": "https://localhost:8080/",
          "height": 36
        }
      },
      "source": [
        "biggest_character(\"abcd!ABCD|\")"
      ],
      "execution_count": null,
      "outputs": [
        {
          "output_type": "execute_result",
          "data": {
            "application/vnd.google.colaboratory.intrinsic+json": {
              "type": "string"
            },
            "text/plain": [
              "'|'"
            ]
          },
          "metadata": {
            "tags": []
          },
          "execution_count": 31
        }
      ]
    },
    {
      "cell_type": "code",
      "metadata": {
        "id": "66bOPCStYUnv"
      },
      "source": [
        "# Q4.c. Using reduce function - adds every 3rd number in a list\n",
        "def alt_adder(in_list = list)->list:\n",
        "    '''\n",
        "    This function that adds every 3rd number in the provided list\n",
        "    The input should be a list of numbers.\n",
        "    The function returns sum of every 3rd number in the provided list\n",
        "    '''\n",
        "    final_num = reduce(lambda a,b: a if in_list.index(b)%2!=0 else a+b,in_list)\n",
        "    return final_num"
      ],
      "execution_count": null,
      "outputs": []
    },
    {
      "cell_type": "code",
      "metadata": {
        "id": "r_PpaoZ1YXge",
        "outputId": "0a8a5c07-4a09-40ea-cca0-5aad1d6729f7",
        "colab": {
          "base_uri": "https://localhost:8080/"
        }
      },
      "source": [
        "alt_adder([1,2,3,4,5,6])"
      ],
      "execution_count": null,
      "outputs": [
        {
          "output_type": "execute_result",
          "data": {
            "text/plain": [
              "9"
            ]
          },
          "metadata": {
            "tags": []
          },
          "execution_count": 39
        }
      ]
    },
    {
      "cell_type": "code",
      "metadata": {
        "id": "5IbAhIlfYYCs"
      },
      "source": [
        "# Q5. Using randint, random.choice and list comprehensions, write an expression that \n",
        "#     generates 15 random KADDAADDDD number plates, where KA is fixed, D stands for a digit\n",
        "#     and A stands for Capital alphabets. 10<<DD<<99 & 1000<<DDDD<<9999\n",
        "def num_plate_generator()->list:\n",
        "    '''\n",
        "    This function that generates 15 random number plates starting with KA (for Karnataka)\n",
        "    The function doesn't take any input\n",
        "    The function returns list of 15 random number plates starting with KA\n",
        "    '''\n",
        "    num = ['KA' + str(a) + str(b1) + str(b2) + str(c) for a,b1,b2,c in zip(random.sample(list(range(10,100)),15),\n",
        "                                                                random.sample(list(map(chr,(range(65,91)))),15),\n",
        "                                                                random.sample(list(map(chr,(range(65,91)))),15),\n",
        "                                                                random.sample(list(range(1000,10000)),15))]\n",
        "    return num"
      ],
      "execution_count": null,
      "outputs": []
    },
    {
      "cell_type": "code",
      "metadata": {
        "id": "-Rmwjl8hYgeG",
        "outputId": "695cbb86-7397-47b3-83f6-4b9650196d23",
        "colab": {
          "base_uri": "https://localhost:8080/"
        }
      },
      "source": [
        "num_plate_generator()"
      ],
      "execution_count": null,
      "outputs": [
        {
          "output_type": "execute_result",
          "data": {
            "text/plain": [
              "['KA79AR1107',\n",
              " 'KA16VX9236',\n",
              " 'KA35BQ9672',\n",
              " 'KA62HD9442',\n",
              " 'KA49LO8795',\n",
              " 'KA56DI6005',\n",
              " 'KA64KS9643',\n",
              " 'KA33QE9537',\n",
              " 'KA12FP7460',\n",
              " 'KA66GB3392',\n",
              " 'KA85MN8582',\n",
              " 'KA30ZH4693',\n",
              " 'KA73NF2917',\n",
              " 'KA68TZ5292',\n",
              " 'KA39PV4060']"
            ]
          },
          "metadata": {
            "tags": []
          },
          "execution_count": 35
        }
      ]
    },
    {
      "cell_type": "code",
      "metadata": {
        "id": "YmL_agEdYimk"
      },
      "source": [
        "# Q6.a. Write the above again from scratch where KA can be changed to DL\n",
        "#       and 1000/9999 ranges can be provided.\n",
        "def num_plate_generator_2(num_start=int,num_end=int,state_code=str)->list:\n",
        "    '''\n",
        "    This function that generates 15 random number plates for the state code provided\n",
        "    and the vehicle number between the range provided\n",
        "    The function takes 3 inputs:\n",
        "        num_start: The least number allowed as vehicle number\n",
        "        num_end: The highest number allowed as vehicle number\n",
        "        state_code: Code of the state for which the number plate is to be generated\n",
        "    The function returns list of 15 random number plates based on the inputs\n",
        "    '''\n",
        "    if not isinstance(num_start,int):\n",
        "        raise TypeError(\"Only integeres allowed as minimum number\")\n",
        "\n",
        "    if not isinstance(num_end,int):\n",
        "        raise TypeError(\"Only integeres allowed as maximum number\")\n",
        "\n",
        "    if not isinstance(state_code,str):\n",
        "        raise TypeError(\"Only strings allowed as input\")\n",
        "\n",
        "    if state_code not in ['AN','AP','AR','AS','BR','CG','CH','DD','DL','GA','GJ','HP','HR','JH','JK','KA','KL','LA','LD','MH','ML','MN','MP','MZ','NL','OD','PB','PY','RJ','SK','TN','TR','TS','UK','UP','WB']:\n",
        "        raise ValueError(\"Only following State codes are allowed: AN, AP, AR, AS, BR, CG, CH, DD, DL, GA, GJ, HP, HR, JH, JK, KA, KL, LA, LD, MH, ML, MN, MP, MZ, NL, OD, PB, PY, RJ, SK, TN, TR, TS, UK, UP, WB\")\n",
        "\n",
        "    if len(state_code)!=2:\n",
        "        raise ValueError(\"State code must have only 2 characters\")\n",
        "\n",
        "    num = [state_code + str(a) + str(b1) + str(b2) + str(c) for a,b1,b2,c in zip(random.sample(list(range(10,100)),15),\n",
        "                                                                random.sample(list(map(chr,(range(65,91)))),15),\n",
        "                                                                random.sample(list(map(chr,(range(65,91)))),15),\n",
        "                                                                random.sample(list(range(num_start,num_end+1)),15))]\n",
        "    return num"
      ],
      "execution_count": null,
      "outputs": []
    },
    {
      "cell_type": "code",
      "metadata": {
        "id": "P-NEhTEkYqAl",
        "outputId": "1e8e48f7-d936-4528-8d54-8118efe15294",
        "colab": {
          "base_uri": "https://localhost:8080/"
        }
      },
      "source": [
        "num_plate_generator_2(2500,3500,'DL')"
      ],
      "execution_count": null,
      "outputs": [
        {
          "output_type": "execute_result",
          "data": {
            "text/plain": [
              "['DL12EF3006',\n",
              " 'DL99CR2890',\n",
              " 'DL30TW2999',\n",
              " 'DL18ME3440',\n",
              " 'DL80QM2647',\n",
              " 'DL76GP2753',\n",
              " 'DL27WD3045',\n",
              " 'DL15UY2873',\n",
              " 'DL38XB2708',\n",
              " 'DL37NC3379',\n",
              " 'DL93SZ2698',\n",
              " 'DL48HG3173',\n",
              " 'DL41VI3145',\n",
              " 'DL59RN3353',\n",
              " 'DL21DA2634']"
            ]
          },
          "metadata": {
            "tags": []
          },
          "execution_count": 38
        }
      ]
    }
  ]
}